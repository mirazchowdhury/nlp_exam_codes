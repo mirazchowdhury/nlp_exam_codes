{
 "cells": [
  {
   "cell_type": "code",
   "execution_count": 1,
   "id": "09ed60a6",
   "metadata": {},
   "outputs": [
    {
     "name": "stdout",
     "output_type": "stream",
     "text": [
      "Structured FAQ dataset created: faq.csv\n"
     ]
    }
   ],
   "source": [
    "import pandas as pd\n",
    "\n",
    "data = {\n",
    "    \"question\": [\n",
    "        \"Do you offer delivery?\",\n",
    "        \"Where are you located?\",\n",
    "        \"Can I return a product?\",\n",
    "        \"Do you sell mobile phones?\",\n",
    "        \"What payment methods do you accept?\",\n",
    "        \"How can I track my order?\",\n",
    "        \"Do you have customer support?\",\n",
    "        \"What are your business hours?\",\n",
    "        \"How long does delivery take?\",\n",
    "        \"Do you offer discounts or coupons?\"\n",
    "    ],\n",
    "    \"answer\": [\n",
    "        \"Yes, we provide delivery service for all orders above 500 BDT.\",\n",
    "        \"We are located at 123 Main Road, Dhaka.\",\n",
    "        \"You can return a product within 7 days of delivery.\",\n",
    "        \"Sorry, I couldn’t find a suitable answer to your question.\",\n",
    "        \"We accept cash on delivery, bKash, and all major credit/debit cards.\",\n",
    "        \"You can track your order using the link sent via email after dispatch.\",\n",
    "        \"Yes, our customer support is available from 9 AM to 9 PM every day.\",\n",
    "        \"Our business hours are from 10 AM to 8 PM, Monday to Saturday.\",\n",
    "        \"Delivery takes 2–4 business days depending on your location.\",\n",
    "        \"Yes, we frequently offer promotions. Subscribe to our newsletter to stay updated.\"\n",
    "    ],\n",
    "    \"category\": [\n",
    "        \"Shipping\",\n",
    "        \"Location\",\n",
    "        \"Returns\",\n",
    "        \"Product Availability\",\n",
    "        \"Payment\",\n",
    "        \"Order Tracking\",\n",
    "        \"Customer Support\",\n",
    "        \"Business Hours\",\n",
    "        \"Shipping\",\n",
    "        \"Promotions\"\n",
    "    ],\n",
    "    \"intent\": [\n",
    "        \"inquire_shipping\",\n",
    "        \"ask_location\",\n",
    "        \"ask_return_policy\",\n",
    "        \"ask_product_availability\",\n",
    "        \"ask_payment_options\",\n",
    "        \"track_order\",\n",
    "        \"contact_support\",\n",
    "        \"ask_hours\",\n",
    "        \"delivery_time\",\n",
    "        \"ask_discounts\"\n",
    "    ],\n",
    "    \"synonyms\": [\n",
    "        \"delivery, shipping, send items, home delivery\",\n",
    "        \"address, location, where are you, shop location\",\n",
    "        \"refund, return item, exchange, return policy\",\n",
    "        \"buy mobile, phone selling, phones available\",\n",
    "        \"payment methods, how to pay, bKash, card payment\",\n",
    "        \"track package, order status, delivery status\",\n",
    "        \"help line, support number, call support, customer care\",\n",
    "        \"working hours, open time, shop timing, operation hours\",\n",
    "        \"delivery duration, when will I get my order, shipping time\",\n",
    "        \"promo, sale, discount, coupon, offer\"\n",
    "    ]\n",
    "}\n",
    "\n",
    "# Save as CSV\n",
    "df = pd.DataFrame(data)\n",
    "df.to_csv(\"faq.csv\", index=False)\n",
    "\n",
    "print(\"Structured FAQ dataset created: faq.csv\")"
   ]
  }
 ],
 "metadata": {
  "kernelspec": {
   "display_name": "mchatbot",
   "language": "python",
   "name": "mchatbot"
  },
  "language_info": {
   "codemirror_mode": {
    "name": "ipython",
    "version": 3
   },
   "file_extension": ".py",
   "mimetype": "text/x-python",
   "name": "python",
   "nbconvert_exporter": "python",
   "pygments_lexer": "ipython3",
   "version": "3.12.8"
  }
 },
 "nbformat": 4,
 "nbformat_minor": 5
}
