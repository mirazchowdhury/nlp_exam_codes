{
 "cells": [
  {
   "cell_type": "markdown",
   "id": "03774756",
   "metadata": {},
   "source": [
    "##### Importing packages"
   ]
  },
  {
   "cell_type": "code",
   "execution_count": 15,
   "id": "d048eb6f",
   "metadata": {},
   "outputs": [],
   "source": [
    "import pandas as pd\n",
    "from sklearn.feature_extraction.text import TfidfVectorizer\n",
    "from sklearn.metrics.pairwise import cosine_similarity"
   ]
  },
  {
   "cell_type": "markdown",
   "id": "1fce7aab",
   "metadata": {},
   "source": [
    "\n",
    "#### Applying tf-idf vectorizer and cosine similarity on to the structured dataset\n"
   ]
  },
  {
   "cell_type": "code",
   "execution_count": null,
   "id": "c1d0cbf8",
   "metadata": {},
   "outputs": [],
   "source": [
    "import pandas as pd\n",
    "from sklearn.feature_extraction.text import TfidfVectorizer\n",
    "from sklearn.metrics.pairwise import cosine_similarity\n",
    "\n",
    "# Step 1: Load the structured FAQ dataset\n",
    "df = pd.read_csv(\"faq.csv\")\n",
    "\n",
    "# Step 2: Build faq_data dictionary (question -> answer)\n",
    "faq_data = dict(zip(df['question'], df['answer']))\n",
    "\n",
    "# Step 3: Create a pool of all possible question variations (question + synonyms)\n",
    "question_list = []\n",
    "answer_list = []\n",
    "\n",
    "for idx, row in df.iterrows():\n",
    "    # Add main question\n",
    "    question_list.append(row['question'].lower())\n",
    "    answer_list.append(row['answer'])\n",
    "\n",
    "    # Add synonyms (if any)\n",
    "    if pd.notna(row['synonyms']):\n",
    "        synonyms = [s.strip().lower() for s in row['synonyms'].split(',')]\n",
    "        question_list.extend(synonyms)\n",
    "        answer_list.extend([row['answer']] * len(synonyms))\n",
    "\n",
    "# Step 4: Fit TF-IDF vectorizer on all question variations\n",
    "vectorizer = TfidfVectorizer(stop_words='english')\n",
    "question_vectors = vectorizer.fit_transform(question_list)\n",
    "\n",
    "\n",
    "# Step 5: Define the answer retrieval function\n",
    "def get_faq_answer(user_query: str, threshold: float = 0.45) -> str:\n",
    "    user_query = user_query.lower().strip()\n",
    "    user_vector = vectorizer.transform([user_query])\n",
    "    \n",
    "    # Compute similarity\n",
    "    similarities = cosine_similarity(user_vector, question_vectors)\n",
    "    best_match_index = similarities.argmax()\n",
    "    best_score = similarities[0][best_match_index]\n",
    "    \n",
    "    if best_score >= threshold:\n",
    "        return answer_list[best_match_index]\n",
    "    else:\n",
    "        return \"Sorry, I couldn’t find a suitable answer to your question.\"\n",
    "\n",
    "\n",
    "\n"
   ]
  },
  {
   "cell_type": "code",
   "execution_count": null,
   "id": "ab383b4e",
   "metadata": {},
   "outputs": [],
   "source": [
    "# Step 5: Define the answer retrieval function\n",
    "from sentence_transformers import SentenceTransformer, util\n",
    "\n",
    "# Load model\n",
    "model = SentenceTransformer(\"all-MiniLM-L6-v2\")\n",
    "\n",
    "# Embed all question variations\n",
    "question_embeddings = model.encode(question_list, convert_to_tensor=True)\n",
    "\n",
    "def get_faq_answer(user_query: str, threshold: float = 0.7) -> str:\n",
    "    user_embedding = model.encode(user_query, convert_to_tensor=True)\n",
    "    \n",
    "    cosine_scores = util.pytorch_cos_sim(user_embedding, question_embeddings)[0]\n",
    "    best_score = cosine_scores.max().item()\n",
    "    best_index = cosine_scores.argmax().item()\n",
    "    \n",
    "    if best_score >= threshold:\n",
    "        return answer_list[best_index]\n",
    "    else:\n",
    "        return \"Sorry, I couldn’t find a suitable answer to your question.\""
   ]
  },
  {
   "cell_type": "code",
   "execution_count": 31,
   "id": "ccbe82ec",
   "metadata": {},
   "outputs": [
    {
     "name": "stdout",
     "output_type": "stream",
     "text": [
      "Yes, we provide delivery service for all orders above 500 BDT.\n",
      "We are located at 123 Main Road, Dhaka.\n",
      "Yes, we frequently offer promotions. Subscribe to our newsletter to stay updated.\n",
      "We accept cash on delivery, bKash, and all major credit/debit cards.\n"
     ]
    }
   ],
   "source": [
    "print(get_faq_answer(\"Do you offer home delivery?\"))\n",
    "\n",
    "\n",
    "print(get_faq_answer(\"Where is your shop?\"))\n",
    "\n",
    "\n",
    "print(get_faq_answer(\"Do you have makeups for sale?\"))\n",
    "\n",
    "\n",
    "print(get_faq_answer(\"How do I pay you?\"))\n",
    "\n"
   ]
  }
 ],
 "metadata": {
  "kernelspec": {
   "display_name": "mchatbot",
   "language": "python",
   "name": "mchatbot"
  },
  "language_info": {
   "codemirror_mode": {
    "name": "ipython",
    "version": 3
   },
   "file_extension": ".py",
   "mimetype": "text/x-python",
   "name": "python",
   "nbconvert_exporter": "python",
   "pygments_lexer": "ipython3",
   "version": "3.12.8"
  }
 },
 "nbformat": 4,
 "nbformat_minor": 5
}
